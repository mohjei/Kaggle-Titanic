{
 "cells": [
  {
   "cell_type": "markdown",
   "metadata": {
    "collapsed": true
   },
   "source": [
    "# Titanic: Machine Learning from Disaster"
   ]
  },
  {
   "cell_type": "markdown",
   "metadata": {},
   "source": [
    "## 1. Introduction"
   ]
  },
  {
   "cell_type": "markdown",
   "metadata": {
    "collapsed": true
   },
   "source": [
    "The business question is how to accurately forecast Titanic passengers survival rate given their information. To this end, a predictive model using machine learning algorithms is presented. For further details on the case study, see [here](https://www.kaggle.com/c/titanic). "
   ]
  },
  {
   "cell_type": "markdown",
   "metadata": {},
   "source": [
    "## 2. Data understanding"
   ]
  },
  {
   "cell_type": "markdown",
   "metadata": {},
   "source": [
    "The dataset provided by Kaggle is devided into two separated sets that are training and test sets, respectively. The target variable, i.e., passenger survival, has been excluded from the test dataset."
   ]
  },
  {
   "cell_type": "markdown",
   "metadata": {},
   "source": [
    "### 2.1. Import libraries"
   ]
  },
  {
   "cell_type": "code",
   "execution_count": 1,
   "metadata": {
    "collapsed": false
   },
   "outputs": [],
   "source": [
    "import warnings\n",
    "def ignore_warnings(*args, **kwargs):\n",
    "    pass\n",
    "warnings.warn = ignore_warnings \n",
    "\n",
    "import pandas as pd\n",
    "import numpy as np\n",
    "\n",
    "import matplotlib.pyplot as plt\n",
    "from matplotlib import cm\n",
    "plt.style.use('ggplot')\n",
    "%matplotlib inline\n",
    "import seaborn as sns\n",
    "sns.set(color_codes=True)\n",
    "\n",
    "from sklearn.preprocessing import LabelEncoder, OneHotEncoder\n",
    "from sklearn.model_selection  import train_test_split, KFold, StratifiedKFold  \n",
    "from sklearn.model_selection import GridSearchCV\n",
    "from sklearn.metrics import accuracy_score, make_scorer, roc_auc_score\n",
    "\n",
    "from sklearn.ensemble import RandomForestClassifier\n",
    "import xgboost as xgb\n",
    "from xgboost.sklearn import XGBClassifier\n",
    "from xgboost import plot_importance"
   ]
  },
  {
   "cell_type": "markdown",
   "metadata": {},
   "source": [
    "### 2.2. Load data"
   ]
  },
  {
   "cell_type": "code",
   "execution_count": 2,
   "metadata": {
    "collapsed": false
   },
   "outputs": [
    {
     "name": "stdout",
     "output_type": "stream",
     "text": [
      "Dimension of Titanic dataset: (1309, 12)\n",
      "\n",
      "Dimension of train dataset: (891, 12)\n",
      "\n",
      "Dimension of test dataset: (418, 11)\n",
      "\n",
      "<class 'pandas.core.frame.DataFrame'>\n",
      "RangeIndex: 891 entries, 0 to 890\n",
      "Data columns (total 11 columns):\n",
      "Survived    891 non-null int64\n",
      "Pclass      891 non-null int64\n",
      "Name        891 non-null object\n",
      "Sex         891 non-null object\n",
      "Age         714 non-null float64\n",
      "SibSp       891 non-null int64\n",
      "Parch       891 non-null int64\n",
      "Ticket      891 non-null object\n",
      "Fare        891 non-null float64\n",
      "Cabin       204 non-null object\n",
      "Embarked    889 non-null object\n",
      "dtypes: float64(2), int64(4), object(5)\n",
      "memory usage: 76.6+ KB\n"
     ]
    }
   ],
   "source": [
    "df = pd.read_csv(\"train.csv\")\n",
    "test = pd.read_csv(\"test.csv\")\n",
    "\n",
    "titanic = df.append(test)\n",
    "titanic.reset_index(inplace=True)\n",
    "titanic.drop('index',inplace=True,axis=1)\n",
    "print(\"Dimension of Titanic dataset: {}\".format(titanic.shape)+\"\\n\")\n",
    "print(\"Dimension of train dataset: {}\".format(df.shape)+\"\\n\")\n",
    "print(\"Dimension of test dataset: {}\".format(test.shape)+\"\\n\")\n",
    "\n",
    "df = df.drop('PassengerId', axis = 1)\n",
    "df.info()"
   ]
  },
  {
   "cell_type": "markdown",
   "metadata": {},
   "source": [
    "### 2.3. Data exploration"
   ]
  },
  {
   "cell_type": "markdown",
   "metadata": {},
   "source": [
    "#### 2.3.1. Descriptive summaries"
   ]
  },
  {
   "cell_type": "code",
   "execution_count": 3,
   "metadata": {
    "collapsed": false
   },
   "outputs": [
    {
     "name": "stdout",
     "output_type": "stream",
     "text": [
      "The dataset columns: Index(['Age', 'Cabin', 'Embarked', 'Fare', 'Name', 'Parch', 'PassengerId',\n",
      "       'Pclass', 'Sex', 'SibSp', 'Survived', 'Ticket'],\n",
      "      dtype='object')\n"
     ]
    }
   ],
   "source": [
    "#The train set columns\n",
    "print(\"The dataset columns: {}\". format(titanic.columns))"
   ]
  },
  {
   "cell_type": "code",
   "execution_count": 4,
   "metadata": {
    "collapsed": false
   },
   "outputs": [
    {
     "name": "stdout",
     "output_type": "stream",
     "text": [
      "   Survived  Pclass                                               Name  \\\n",
      "0         0       3                            Braund, Mr. Owen Harris   \n",
      "1         1       1  Cumings, Mrs. John Bradley (Florence Briggs Th...   \n",
      "2         1       3                             Heikkinen, Miss. Laina   \n",
      "3         1       1       Futrelle, Mrs. Jacques Heath (Lily May Peel)   \n",
      "4         0       3                           Allen, Mr. William Henry   \n",
      "5         0       3                                   Moran, Mr. James   \n",
      "6         0       1                            McCarthy, Mr. Timothy J   \n",
      "7         0       3                     Palsson, Master. Gosta Leonard   \n",
      "8         1       3  Johnson, Mrs. Oscar W (Elisabeth Vilhelmina Berg)   \n",
      "9         1       2                Nasser, Mrs. Nicholas (Adele Achem)   \n",
      "\n",
      "      Sex   Age  SibSp  Parch            Ticket     Fare Cabin Embarked  \n",
      "0    male  22.0      1      0         A/5 21171   7.2500   NaN        S  \n",
      "1  female  38.0      1      0          PC 17599  71.2833   C85        C  \n",
      "2  female  26.0      0      0  STON/O2. 3101282   7.9250   NaN        S  \n",
      "3  female  35.0      1      0            113803  53.1000  C123        S  \n",
      "4    male  35.0      0      0            373450   8.0500   NaN        S  \n",
      "5    male   NaN      0      0            330877   8.4583   NaN        Q  \n",
      "6    male  54.0      0      0             17463  51.8625   E46        S  \n",
      "7    male   2.0      3      1            349909  21.0750   NaN        S  \n",
      "8  female  27.0      0      2            347742  11.1333   NaN        S  \n",
      "9  female  14.0      1      0            237736  30.0708   NaN        C  \n"
     ]
    }
   ],
   "source": [
    "#The train set\n",
    "print(df.head(10))"
   ]
  },
  {
   "cell_type": "code",
   "execution_count": 5,
   "metadata": {
    "collapsed": false
   },
   "outputs": [
    {
     "name": "stdout",
     "output_type": "stream",
     "text": [
      "Check missing values in the train set: \n",
      "\n"
     ]
    },
    {
     "data": {
      "text/plain": [
       "Survived      0\n",
       "Pclass        0\n",
       "Name          0\n",
       "Sex           0\n",
       "Age         177\n",
       "SibSp         0\n",
       "Parch         0\n",
       "Ticket        0\n",
       "Fare          0\n",
       "Cabin       687\n",
       "Embarked      2\n",
       "dtype: int64"
      ]
     },
     "execution_count": 5,
     "metadata": {},
     "output_type": "execute_result"
    }
   ],
   "source": [
    "print(\"Check missing values in the train set: \" + \"\\n\")\n",
    "df.apply(lambda x: sum(x.isnull()))"
   ]
  },
  {
   "cell_type": "code",
   "execution_count": 6,
   "metadata": {
    "collapsed": false
   },
   "outputs": [
    {
     "name": "stdout",
     "output_type": "stream",
     "text": [
      "Check missing values in the test set: \n",
      "\n"
     ]
    },
    {
     "data": {
      "text/plain": [
       "PassengerId      0\n",
       "Pclass           0\n",
       "Name             0\n",
       "Sex              0\n",
       "Age             86\n",
       "SibSp            0\n",
       "Parch            0\n",
       "Ticket           0\n",
       "Fare             1\n",
       "Cabin          327\n",
       "Embarked         0\n",
       "dtype: int64"
      ]
     },
     "execution_count": 6,
     "metadata": {},
     "output_type": "execute_result"
    }
   ],
   "source": [
    "print(\"Check missing values in the test set: \" + \"\\n\")\n",
    "test.apply(lambda x: sum(x.isnull()))"
   ]
  },
  {
   "cell_type": "markdown",
   "metadata": {},
   "source": [
    "'Age' and 'Cabin' have a considerable number of missing values in the \"Titanic\" dataset. There are only two and one values missing in \"Embarked\" and \"Fare\", respectively, in the dataset."
   ]
  },
  {
   "cell_type": "code",
   "execution_count": 206,
   "metadata": {
    "collapsed": false
   },
   "outputs": [
    {
     "name": "stdout",
     "output_type": "stream",
     "text": [
      "Get summary of numerical variables: \n",
      "\n",
      "               Age        SibSp        Parch         Fare\n",
      "count  1046.000000  1309.000000  1309.000000  1308.000000\n",
      "mean     29.881138     0.498854     0.385027    33.295479\n",
      "std      14.413493     1.041658     0.865560    51.758668\n",
      "min       0.170000     0.000000     0.000000     0.000000\n",
      "25%      21.000000     0.000000     0.000000     7.895800\n",
      "50%      28.000000     0.000000     0.000000    14.454200\n",
      "75%      39.000000     1.000000     0.000000    31.275000\n",
      "max      80.000000     8.000000     9.000000   512.329200\n"
     ]
    }
   ],
   "source": [
    "#Numerical variables analysis\n",
    "print(\"Get summary of numerical variables: \"+\"\\n\")\n",
    "print(titanic.loc[:,['Age', 'SibSp', 'Parch', 'Fare']].describe())"
   ]
  },
  {
   "cell_type": "markdown",
   "metadata": {},
   "source": [
    "* An interesting observation is the seventy-five percent of \"Fare\" values do not excced 31 while the maximum fare value is 512."
   ]
  },
  {
   "cell_type": "code",
   "execution_count": 8,
   "metadata": {
    "collapsed": false
   },
   "outputs": [
    {
     "name": "stdout",
     "output_type": "stream",
     "text": [
      "Get summary of categorical variables: \n",
      "\n",
      "0    549\n",
      "1    342\n",
      "Name: Survived, dtype: int64\n",
      "3    491\n",
      "1    216\n",
      "2    184\n",
      "Name: Pclass, dtype: int64\n",
      "male      577\n",
      "female    314\n",
      "Name: Sex, dtype: int64\n",
      "S    644\n",
      "C    168\n",
      "Q     77\n",
      "Name: Embarked, dtype: int64\n"
     ]
    }
   ],
   "source": [
    "#Categorical variables analysis\n",
    "print(\"Get summary of categorical variables: \" + \"\\n\")\n",
    "\n",
    "cat_var=[i for i in ['Survived','Pclass', 'Sex', 'Embarked']]\n",
    "\n",
    "for i in cat_var:\n",
    "     print (df[i].value_counts()) \n",
    "\n",
    "#df.dtypes[df.dtypes == \"object\"].index.drop(['Name', 'Ticket', 'Cabin'])"
   ]
  },
  {
   "cell_type": "markdown",
   "metadata": {},
   "source": [
    "* The survival rate for the train set is %40\n",
    "\n",
    "* The number of the lowest class passengers dominates the tow other classes as expected\n",
    "\n",
    "* The number of male passengers is quite twice of  the female ones\n",
    "\n",
    "* The boarding port of most passnegers is Southampton"
   ]
  },
  {
   "cell_type": "markdown",
   "metadata": {},
   "source": [
    "#### 2.3.2. Data visualization"
   ]
  },
  {
   "cell_type": "code",
   "execution_count": 336,
   "metadata": {
    "collapsed": false
   },
   "outputs": [],
   "source": [
    "#Set up helper function for data visualization \n",
    "def plt_cross(dataset, target, cat):\n",
    "    df_temp = pd.crosstab(df[target], df[cat]).plot(kind = 'bar', stacked='True')\n",
    "    plt.xlabel(target)\n",
    "    plt.ylabel('Count of passengers')\n",
    "    plt.title(target+\" vs \"+cat)\n",
    "    \n",
    "def plt_cat(dataset, cat, target):   \n",
    "    ax = sns.FacetGrid(dataset,  margin_titles=True, size = 4)\n",
    "    ax = ax.map(sns.barplot, cat, target) \n",
    "    ax.add_legend()\n",
    "    \n",
    "def box_plot(dataset, col, by_var = []):\n",
    "    df.boxplot(column = col, by = by_var)\n",
    "    \n",
    "def bi_hist(dataset, feature, target):\n",
    "    plt.figure(figsize=(12,7))\n",
    "    plt.hist([df[df[target]==1][feature].dropna(), df[df[target]==0][feature].dropna()], stacked=True, color = ['g','b'],\n",
    "         bins = 20,label = ['Survived','Not survived'])\n",
    "    plt.xlabel('feature')\n",
    "    plt.ylabel('Count of passengers')\n",
    "    plt.legend()\n",
    "    \n",
    "def plot_correlation_map(dataset):\n",
    "    corr = dataset.corr()\n",
    "    _ , ax = plt.subplots(figsize =(7, 6))\n",
    "    _ = sns.heatmap(\n",
    "        corr, \n",
    "        cmap = sns.diverging_palette(200, 10, as_cmap = True),\n",
    "        square=True, \n",
    "        #cbar_kws={'shrink': 0.9}, \n",
    "        ax=ax, \n",
    "        annot = True, \n",
    "        #annot_kws = {'fontsize': 12}\n",
    "    )    "
   ]
  },
  {
   "cell_type": "markdown",
   "metadata": {},
   "source": [
    "Let start by plotting survival count per each category of survived and non-survived passengers. "
   ]
  },
  {
   "cell_type": "code",
   "execution_count": 10,
   "metadata": {
    "collapsed": false
   },
   "outputs": [
    {
     "data": {
      "text/plain": [
       "<matplotlib.text.Text at 0x2cf199a69b0>"
      ]
     },
     "execution_count": 10,
     "metadata": {},
     "output_type": "execute_result"
    },
    {
     "data": {
      "image/png": "[encoded data removed]",
      "text/plain": [
       "<matplotlib.figure.Figure at 0x2cf14f25160>"
      ]
     },
     "metadata": {},
     "output_type": "display_data"
    }
   ],
   "source": [
    "#Plot survival distribution\n",
    "plt.figure(figsize=(4,4))\n",
    "labels = ('Not survived', 'Survived')\n",
    "x_pos = np.arange(len(labels))\n",
    "plt.bar(x_pos, df['Survived'].value_counts(), align='center', alpha=0.5, width=0.25)\n",
    "plt.xticks(x_pos, labels)\n",
    "plt.ylabel('Frequency')\n",
    "plt.title('Survival count')"
   ]
  },
  {
   "cell_type": "markdown",
   "metadata": {},
   "source": [
    "The death and survival rates in the training dataset is calculated below. According to that, 61.6% of passengers did not survive in the wrecked ship, which might not be considered as an imbalanced case. "
   ]
  },
  {
   "cell_type": "code",
   "execution_count": 11,
   "metadata": {
    "collapsed": false
   },
   "outputs": [
    {
     "data": {
      "text/plain": [
       "Survived\n",
       "0    61.616162\n",
       "1    38.383838\n",
       "Name: Survived, dtype: float64"
      ]
     },
     "execution_count": 11,
     "metadata": {},
     "output_type": "execute_result"
    }
   ],
   "source": [
    "100*df.groupby('Survived')['Survived'].count()/df.shape[0]"
   ]
  },
  {
   "cell_type": "markdown",
   "metadata": {},
   "source": [
    "Now, we procced with exploring the distribution of ticket class by survival variable. Further, we analyze the portion of survivd passengers per each ticket class. "
   ]
  },
  {
   "cell_type": "code",
   "execution_count": 12,
   "metadata": {
    "collapsed": false
   },
   "outputs": [
    {
     "data": {
      "image/png": "[encoded data removed]",
      "text/plain": [
       "<matplotlib.figure.Figure at 0x2cf19b90b38>"
      ]
     },
     "metadata": {},
     "output_type": "display_data"
    }
   ],
   "source": [
    "#Plot cross tabular survival per passenger classe\n",
    "plt_cross(df, 'Survived', 'Pclass')"
   ]
  },
  {
   "cell_type": "code",
   "execution_count": 13,
   "metadata": {
    "collapsed": false
   },
   "outputs": [
    {
     "data": {
      "image/png": "[encoded data removed]",
      "text/plain": [
       "<matplotlib.figure.Figure at 0x2cf19f582e8>"
      ]
     },
     "metadata": {},
     "output_type": "display_data"
    }
   ],
   "source": [
    "#Plot survival count per passenger classe\n",
    "plt_cat(df, 'Pclass', 'Survived')"
   ]
  },
  {
   "cell_type": "markdown",
   "metadata": {},
   "source": [
    "As illustrated above, the passnegers holding higher-class tickets have the highest chance of survival. They are, then, followed by the middle-class tickets. The larget group of sunk passengers belong to the lower-class ticket. \n",
    "\n",
    "Now that the same analysis is done for gender and embarkation port as shown below. "
   ]
  },
  {
   "cell_type": "code",
   "execution_count": 14,
   "metadata": {
    "collapsed": false
   },
   "outputs": [
    {
     "data": {
      "image/png": "[encoded data removed]",
      "text/plain": [
       "<matplotlib.figure.Figure at 0x2cf19e777f0>"
      ]
     },
     "metadata": {},
     "output_type": "display_data"
    }
   ],
   "source": [
    "#Plot cross tabular survival per gender\n",
    "plt_cross(df, 'Survived', 'Sex')"
   ]
  },
  {
   "cell_type": "code",
   "execution_count": 15,
   "metadata": {
    "collapsed": false
   },
   "outputs": [
    {
     "data": {
      "image/png": "[encoded data removed]",
      "text/plain": [
       "<matplotlib.figure.Figure at 0x2cf19fceeb8>"
      ]
     },
     "metadata": {},
     "output_type": "display_data"
    }
   ],
   "source": [
    "#Plot survival count per gender\n",
    "plt_cat(df, 'Sex', 'Survived')"
   ]
  },
  {
   "cell_type": "markdown",
   "metadata": {},
   "source": [
    "As shown, most people survived are females. "
   ]
  },
  {
   "cell_type": "code",
   "execution_count": 16,
   "metadata": {
    "collapsed": false
   },
   "outputs": [
    {
     "data": {
      "image/png": "[encoded data removed]",
      "text/plain": [
       "<matplotlib.figure.Figure at 0x2cf1a02ba20>"
      ]
     },
     "metadata": {},
     "output_type": "display_data"
    }
   ],
   "source": [
    "#Plot cross tabular survival per port of embarkation\n",
    "plt_cross(df, 'Survived', 'Embarked')"
   ]
  },
  {
   "cell_type": "code",
   "execution_count": 17,
   "metadata": {
    "collapsed": false
   },
   "outputs": [
    {
     "data": {
      "image/png": "[encoded data removed]",
      "text/plain": [
       "<matplotlib.figure.Figure at 0x2cf1a241c50>"
      ]
     },
     "metadata": {},
     "output_type": "display_data"
    }
   ],
   "source": [
    "#Plot survival count per port of embarkation\n",
    "plt_cat(df, 'Embarked', 'Survived')"
   ]
  },
  {
   "cell_type": "markdown",
   "metadata": {},
   "source": [
    "As mentioned earlier, females are luckier than males. It can be particularly due to the sailing ethics. We can also expect that children have higher survival chance. To examine the validity of such assumption, the distribution of age variable is plotted as follows."
   ]
  },
  {
   "cell_type": "code",
   "execution_count": 18,
   "metadata": {
    "collapsed": false
   },
   "outputs": [
    {
     "data": {
      "image/png": "[encoded data removed]",
      "text/plain": [
       "<matplotlib.figure.Figure at 0x2cf1a241c18>"
      ]
     },
     "metadata": {},
     "output_type": "display_data"
    }
   ],
   "source": [
    "bi_hist(df, 'Age', 'Survived')"
   ]
  },
  {
   "cell_type": "markdown",
   "metadata": {
    "collapsed": true
   },
   "source": [
    "Let's plot passengers' age distribution per gender in the full dataset."
   ]
  },
  {
   "cell_type": "code",
   "execution_count": 207,
   "metadata": {
    "collapsed": false
   },
   "outputs": [
    {
     "data": {
      "image/png": "[encoded data removed]",
      "text/plain": [
       "<matplotlib.figure.Figure at 0x2cf1b457c18>"
      ]
     },
     "metadata": {},
     "output_type": "display_data"
    }
   ],
   "source": [
    "box_plot(titanic, 'Age', ['Sex'])"
   ]
  },
  {
   "cell_type": "markdown",
   "metadata": {
    "collapsed": true
   },
   "source": [
    "As the following box plot illustrates, age distribution is quite different within and between ticket classes and gender. It is an important observation as whether a passenger is male/female or which ticket class owns might aggregate a fair estimation of age. For example, the female passengers in the lower class of tickets are considered as the youngest group of Titanic passenfers.  "
   ]
  },
  {
   "cell_type": "code",
   "execution_count": 208,
   "metadata": {
    "collapsed": false
   },
   "outputs": [
    {
     "data": {
      "image/png": "[encoded data removed]",
      "text/plain": [
       "<matplotlib.figure.Figure at 0x2cf1b559630>"
      ]
     },
     "metadata": {},
     "output_type": "display_data"
    }
   ],
   "source": [
    "box_plot(titanic, 'Age', ['Sex', 'Pclass'])"
   ]
  },
  {
   "cell_type": "markdown",
   "metadata": {},
   "source": [
    "Finally, we plot the correlation matrix which investigates the dependence between multiple variables. As shown by the correlation plot, SibSp and Parch are quite correlated."
   ]
  },
  {
   "cell_type": "code",
   "execution_count": 337,
   "metadata": {
    "collapsed": false
   },
   "outputs": [
    {
     "data": {
      "image/png": "[encoded data removed]",
      "text/plain": [
       "<matplotlib.figure.Figure at 0x2cf1d5ac470>"
      ]
     },
     "metadata": {},
     "output_type": "display_data"
    }
   ],
   "source": [
    "plot_correlation_map(df)"
   ]
  },
  {
   "cell_type": "markdown",
   "metadata": {
    "collapsed": true
   },
   "source": [
    "## 3. Data munging"
   ]
  },
  {
   "cell_type": "markdown",
   "metadata": {
    "collapsed": true
   },
   "source": [
    "### 3.1. Imputing missing values"
   ]
  },
  {
   "cell_type": "markdown",
   "metadata": {
    "collapsed": true
   },
   "source": [
    "Recall that we obserevd missing values in some variables. The number of missing values per each variable in Titanic dataset, except the target one, is given below.  "
   ]
  },
  {
   "cell_type": "code",
   "execution_count": 306,
   "metadata": {
    "collapsed": false
   },
   "outputs": [
    {
     "data": {
      "text/plain": [
       "Age          263\n",
       "Cabin       1014\n",
       "Embarked       2\n",
       "Fare           1\n",
       "Name           0\n",
       "Parch          0\n",
       "Pclass         0\n",
       "Sex            0\n",
       "SibSp          0\n",
       "Ticket         0\n",
       "dtype: int64"
      ]
     },
     "execution_count": 306,
     "metadata": {},
     "output_type": "execute_result"
    }
   ],
   "source": [
    "titanic.drop(['PassengerId', 'Survived'], axis =1).apply(lambda x: sum(x.isnull()))"
   ]
  },
  {
   "cell_type": "markdown",
   "metadata": {},
   "source": [
    "As it can be observed, four features contain missing values required to be treated. "
   ]
  },
  {
   "cell_type": "code",
   "execution_count": 3,
   "metadata": {
    "collapsed": false
   },
   "outputs": [],
   "source": [
    "# Fare\n",
    "titanic['Fare'].fillna(titanic.Fare.median(), inplace = True)"
   ]
  },
  {
   "cell_type": "code",
   "execution_count": 4,
   "metadata": {
    "collapsed": true
   },
   "outputs": [],
   "source": [
    "# Embarked\n",
    "titanic['Embarked'].fillna(titanic.Embarked.mode()[0], inplace = True)"
   ]
  },
  {
   "cell_type": "code",
   "execution_count": 5,
   "metadata": {
    "collapsed": false
   },
   "outputs": [
    {
     "data": {
      "text/html": [
       "<div>\n",
       "<style scoped>\n",
       "    .dataframe tbody tr th:only-of-type {\n",
       "        vertical-align: middle;\n",
       "    }\n",
       "\n",
       "    .dataframe tbody tr th {\n",
       "        vertical-align: top;\n",
       "    }\n",
       "\n",
       "    .dataframe thead th {\n",
       "        text-align: right;\n",
       "    }\n",
       "</style>\n",
       "<table border=\"1\" class=\"dataframe\">\n",
       "  <thead>\n",
       "    <tr style=\"text-align: right;\">\n",
       "      <th>Cabin</th>\n",
       "      <th>A</th>\n",
       "      <th>B</th>\n",
       "      <th>C</th>\n",
       "      <th>D</th>\n",
       "      <th>E</th>\n",
       "      <th>F</th>\n",
       "      <th>G</th>\n",
       "      <th>N</th>\n",
       "      <th>T</th>\n",
       "    </tr>\n",
       "    <tr>\n",
       "      <th>Pclass</th>\n",
       "      <th></th>\n",
       "      <th></th>\n",
       "      <th></th>\n",
       "      <th></th>\n",
       "      <th></th>\n",
       "      <th></th>\n",
       "      <th></th>\n",
       "      <th></th>\n",
       "      <th></th>\n",
       "    </tr>\n",
       "  </thead>\n",
       "  <tbody>\n",
       "    <tr>\n",
       "      <th>1</th>\n",
       "      <td>22</td>\n",
       "      <td>65</td>\n",
       "      <td>94</td>\n",
       "      <td>40</td>\n",
       "      <td>34</td>\n",
       "      <td>0</td>\n",
       "      <td>0</td>\n",
       "      <td>67</td>\n",
       "      <td>1</td>\n",
       "    </tr>\n",
       "    <tr>\n",
       "      <th>2</th>\n",
       "      <td>0</td>\n",
       "      <td>0</td>\n",
       "      <td>0</td>\n",
       "      <td>6</td>\n",
       "      <td>4</td>\n",
       "      <td>13</td>\n",
       "      <td>0</td>\n",
       "      <td>254</td>\n",
       "      <td>0</td>\n",
       "    </tr>\n",
       "    <tr>\n",
       "      <th>3</th>\n",
       "      <td>0</td>\n",
       "      <td>0</td>\n",
       "      <td>0</td>\n",
       "      <td>0</td>\n",
       "      <td>3</td>\n",
       "      <td>8</td>\n",
       "      <td>5</td>\n",
       "      <td>693</td>\n",
       "      <td>0</td>\n",
       "    </tr>\n",
       "  </tbody>\n",
       "</table>\n",
       "</div>"
      ],
      "text/plain": [
       "Cabin    A   B   C   D   E   F  G    N  T\n",
       "Pclass                                   \n",
       "1       22  65  94  40  34   0  0   67  1\n",
       "2        0   0   0   6   4  13  0  254  0\n",
       "3        0   0   0   0   3   8  5  693  0"
      ]
     },
     "execution_count": 5,
     "metadata": {},
     "output_type": "execute_result"
    }
   ],
   "source": [
    "# Cabin\n",
    "titanic['Cabin'].fillna(\"N\", inplace = True) #replacing temporarily missing values by N\n",
    "titanic['Cabin']=titanic['Cabin'].dropna().map(lambda x: x[0])\n",
    "pd.crosstab(titanic['Pclass'], titanic['Cabin'])"
   ]
  },
  {
   "cell_type": "markdown",
   "metadata": {},
   "source": [
    "As the analysis of cabin number per ticket class suggests, the missing value for this feature can be estimated wisely given the mode value for all categories of cabin number per each Pclass. "
   ]
  },
  {
   "cell_type": "code",
   "execution_count": 6,
   "metadata": {
    "collapsed": false
   },
   "outputs": [],
   "source": [
    "for i, row in titanic.iterrows():\n",
    "    titanic.loc[(titanic['Pclass']==1) & (titanic['Cabin']==\"N\"), 'Cabin'] = 'C'\n",
    "    titanic.loc[(titanic['Pclass']==2) & (titanic['Cabin']==\"N\"), 'Cabin'] = 'F'\n",
    "    titanic.loc[(titanic['Pclass']==3) & (titanic['Cabin']==\"N\"), 'Cabin'] = 'F' "
   ]
  },
  {
   "cell_type": "code",
   "execution_count": 7,
   "metadata": {
    "collapsed": false
   },
   "outputs": [],
   "source": [
    "# Age\n",
    "titanic['Age'] = titanic.groupby(['Sex','Pclass'])['Age'].transform(lambda x: x.fillna(x.median()))"
   ]
  },
  {
   "cell_type": "markdown",
   "metadata": {},
   "source": [
    "### 3.2. Feature engineering"
   ]
  },
  {
   "cell_type": "markdown",
   "metadata": {},
   "source": [
    "In this section, we attempt to create new features using the exisitng ones to extract more information from the dataset. The first feature to be explored is passengers name. See [here](https://github.com/ahmedbesbes/How-to-score-0.8134-in-Titanic-Kaggle-Challenge/blob/master/titanic-article.ipynb) for further details.  "
   ]
  },
  {
   "cell_type": "code",
   "execution_count": 8,
   "metadata": {
    "collapsed": false
   },
   "outputs": [],
   "source": [
    "#Introducing title\n",
    "def get_titles(data):\n",
    "    \n",
    "    Title_Dictionary = {\n",
    "                        \"Capt\":       \"Officer\",\n",
    "                        \"Col\":        \"Officer\",\n",
    "                        \"Major\":      \"Officer\",\n",
    "                        \"Jonkheer\":   \"Royalty\",\n",
    "                        \"Don\":        \"Royalty\",\n",
    "                        \"Sir\" :       \"Royalty\",\n",
    "                        \"Dr\":         \"Officer\",\n",
    "                        \"Rev\":        \"Officer\",\n",
    "                        \"the Countess\":\"Royalty\",\n",
    "                        \"Dona\":       \"Royalty\",\n",
    "                        \"Mme\":        \"Mrs\",\n",
    "                        \"Mlle\":       \"Miss\",\n",
    "                        \"Ms\":         \"Mrs\",\n",
    "                        \"Mr\" :        \"Mr\",\n",
    "                        \"Mrs\" :       \"Mrs\",\n",
    "                        \"Miss\" :      \"Miss\",\n",
    "                        \"Master\" :    \"Master\",\n",
    "                        \"Lady\" :      \"Royalty\"\n",
    "\n",
    "                        }\n",
    "    \n",
    "    data['Title'] = data['Name'].map(lambda x:x.split(',')[1].split('.')[0].strip())\n",
    "        \n",
    "    data['Title'] = data['Title'].map(Title_Dictionary)\n",
    "    \n",
    "    return data\n",
    "\n",
    "titanic=get_titles(titanic)"
   ]
  },
  {
   "cell_type": "markdown",
   "metadata": {},
   "source": [
    "Then, a new variable is defined representing families size as follows."
   ]
  },
  {
   "cell_type": "code",
   "execution_count": 9,
   "metadata": {
    "collapsed": false
   },
   "outputs": [],
   "source": [
    "#Introducing family size\n",
    "def family_size(data):\n",
    "    \n",
    "    data['FamilySize'] = data['Parch'] + data['SibSp'] + 1\n",
    "    \n",
    "    data['Singleton'] = data['FamilySize'].map(lambda x : 1 if x == 1 else 0)\n",
    "    data['SmallFamily'] = data['FamilySize'].map(lambda x : 1 if 2<=x<=4 else 0)\n",
    "    data['LargeFamily'] = data['FamilySize'].map(lambda x : 1 if 5<=x else 0)\n",
    "    \n",
    "    return data\n",
    "\n",
    "titanic=family_size(titanic)"
   ]
  },
  {
   "cell_type": "markdown",
   "metadata": {},
   "source": [
    "Finally, all categorical variables are converted into numerical ones and the unnecessary variables are dropped from the dataset. "
   ]
  },
  {
   "cell_type": "code",
   "execution_count": 10,
   "metadata": {
    "collapsed": true
   },
   "outputs": [],
   "source": [
    "titanic= titanic.drop(['Name', 'Parch', 'SibSp', 'Ticket'], axis=1)"
   ]
  },
  {
   "cell_type": "code",
   "execution_count": 11,
   "metadata": {
    "collapsed": true
   },
   "outputs": [],
   "source": [
    "var_mod=titanic.dtypes[titanic.dtypes == \"object\"].index.tolist()\n",
    "var_mod.append('Pclass')\n",
    "le = LabelEncoder()\n",
    "for i in var_mod:\n",
    "    titanic[i] = le.fit_transform(titanic[i])"
   ]
  },
  {
   "cell_type": "markdown",
   "metadata": {},
   "source": [
    "## 4. Predictive model"
   ]
  },
  {
   "cell_type": "markdown",
   "metadata": {},
   "source": [
    "We define a class to implement predictive models which contains training, testing, and cross-vaidation. "
   ]
  },
  {
   "cell_type": "code",
   "execution_count": 23,
   "metadata": {
    "collapsed": true
   },
   "outputs": [],
   "source": [
    "class _pred_model(object):\n",
    "\n",
    "    def __init__(self, dataSet, predictor, outcome, clf, grid_params):\n",
    "        self.data = dataSet\n",
    "        self.X = predictor\n",
    "        self.y = outcome\n",
    "        self.clf = clf(**grid_params)\n",
    "        self.grid_params = grid_params\n",
    "    \n",
    "    # Hyperparameter tuning and building a model\n",
    "    def learning_(self):\n",
    "        # Splitting data into random train and test subsets\n",
    "        X_train, X_test, y_train, y_test = train_test_split(self.data[self.X], self.data[self.y], test_size = 0.30\n",
    "                                                            , random_state = 0)\n",
    "                        \n",
    "        # Wrapping scoring function\n",
    "        acc_scorer = make_scorer(accuracy_score)\n",
    "        \n",
    "        # Grid search\n",
    "        _grid = GridSearchCV(self.clf, self.grid_params, scoring=acc_scorer, cv=StratifiedKFold(n_splits=5))\n",
    "        self.clf = _grid.fit(X_train, y_train).best_estimator_\n",
    "        \n",
    "        print(self.clf)\n",
    "        \n",
    "        print('Best score: {}'.format(_grid.best_score_))\n",
    "\n",
    "        # Fitting a predictive model to the training set\n",
    "        self.clf.fit(X_train, y_train) \n",
    "        \n",
    "        # Predicting the test set\n",
    "        y_pred = self.clf.predict(X_test)\n",
    "\n",
    "        # Calculating the accuracy of the model using the test set\n",
    "        accuracy = accuracy_score(y_test,y_pred)#*100\n",
    "        print(\"Accuracy: {:5.5f}\".format(accuracy))\n",
    "        \n",
    "        self._kfold()\n",
    "           \n",
    "        return self.clf\n",
    "    \n",
    "    def _kfold(self):\n",
    "        \n",
    "        #Performing k-fold cross-validation\n",
    "        kf = KFold(n_splits = 5)\n",
    "        error = []\n",
    "\n",
    "        # Filter training data\n",
    "        for train, test in kf.split(self.data):\n",
    "            train_X = (self.data[self.X].iloc[train, :])\n",
    "            train_y = self.data[self.y].iloc[train]\n",
    "\n",
    "        # Training and testing the algorithm using the predictors and target\n",
    "        self.clf.fit(train_X, train_y)\n",
    "        pred = self.clf.predict(self.data[self.X].iloc[test,:])\n",
    "\n",
    "        #Record error from each cross-validation \n",
    "        error.append(accuracy_score(self.data[self.y].iloc[test], pred))\n",
    "        print(\"Cross-Validation score: {:5.5f}\".format(np.mean(error)))        "
   ]
  },
  {
   "cell_type": "markdown",
   "metadata": {},
   "source": [
    "### 4.1. Random forests"
   ]
  },
  {
   "cell_type": "markdown",
   "metadata": {},
   "source": [
    "The first predictive model to be built is random forests which is a special variant of bagging."
   ]
  },
  {
   "cell_type": "code",
   "execution_count": 24,
   "metadata": {
    "collapsed": false
   },
   "outputs": [
    {
     "name": "stdout",
     "output_type": "stream",
     "text": [
      "RandomForestClassifier(bootstrap=True, class_weight=None, criterion='entropy',\n",
      "            max_depth=5, max_features='auto', max_leaf_nodes=None,\n",
      "            min_impurity_decrease=0.0, min_impurity_split=None,\n",
      "            min_samples_leaf=1, min_samples_split=2,\n",
      "            min_weight_fraction_leaf=0.0, n_estimators=50, n_jobs=1,\n",
      "            oob_score=False, random_state=None, verbose=0,\n",
      "            warm_start=False)\n",
      "Best score: 0.8346709470304976\n",
      "Accuracy: 0.82463\n",
      "Cross-Validation score: 0.86517\n"
     ]
    },
    {
     "data": {
      "image/png": "[encoded data removed]",
      "text/plain": [
       "<matplotlib.figure.Figure at 0x1f8e5f44278>"
      ]
     },
     "metadata": {},
     "output_type": "display_data"
    },
    {
     "name": "stdout",
     "output_type": "stream",
     "text": [
      "Dimension of final set: (418, 2)\n",
      "\n",
      "     PassengerId  Survived\n",
      "891          892         0\n",
      "892          893         0\n",
      "893          894         0\n",
      "894          895         0\n",
      "895          896         1\n"
     ]
    }
   ],
   "source": [
    "# Random forests objects\n",
    "dataset = titanic[:891].drop('PassengerId', axis=1)\n",
    "predictor = titanic.drop(['PassengerId', 'Survived'], axis = 1).columns.tolist()\n",
    "outcome = 'Survived'\n",
    "rf_params  = {'n_estimators': [2, 4, 10, 15, 20, 50, 100, 200], \n",
    "              'criterion': ['entropy', 'gini'],\n",
    "              'max_depth': [2, 3, 5, 10]\n",
    "             }\n",
    "\n",
    "rf = _pred_model(dataset, predictor, outcome, clf = RandomForestClassifier, grid_params = rf_params)\n",
    "clf = rf.learning_()\n",
    "\n",
    "#Feature importance:\n",
    "featimp = pd.Series(clf.feature_importances_, index=predictor).sort_values(ascending=False)\n",
    "\n",
    "plt.figure(figsize = (10, 5))\n",
    "pd.Series(clf.feature_importances_, index=predictor).sort_values(ascending=False).plot(kind = 'barh')\n",
    "plt.xlabel('Feature')\n",
    "plt.ylabel('Importance')\n",
    "plt.title('Features importance')\n",
    "plt.show()\n",
    "\n",
    "# Predict actual data set\n",
    "_Survived = clf.predict(titanic[891:].drop(['Survived', 'PassengerId'], axis=1)).astype(int)\n",
    "_PassengerId = titanic[891:].PassengerId\n",
    "_rf = pd.DataFrame({'PassengerId': _PassengerId ,'Survived': _Survived})\n",
    "print(\"Dimension of final set: {}\".format(_rf.shape)+\"\\n\")\n",
    "print(_rf.head())\n",
    "_rf.to_csv('_rf.csv', index = False)"
   ]
  },
  {
   "cell_type": "markdown",
   "metadata": {},
   "source": [
    "### 4.1. XGBoost"
   ]
  },
  {
   "cell_type": "markdown",
   "metadata": {},
   "source": [
    "XGBoost is an advanced implementation gradient boosted machines designed for speed and performance. In order to grow a powerful XGboost predictive model, special attention should be dedicated to the parameter tuning. In what follows, we take a generic approach to tune the parameters. Needless to say, one might explore a more efficient way to build a more powerful model. In the first step, we choose a relatively high learning rate and determine the optimal number of trees for this learning rate using the bulit-in cross-validation function in XGBoost.  "
   ]
  },
  {
   "cell_type": "code",
   "execution_count": 16,
   "metadata": {
    "collapsed": false
   },
   "outputs": [
    {
     "name": "stdout",
     "output_type": "stream",
     "text": [
      "    test-error-mean  test-error-std  train-error-mean  train-error-std\n",
      "0          0.207071        0.020719          0.126805         0.005112\n",
      "1          0.195819        0.021895          0.125199         0.004458\n",
      "2          0.195832        0.014098          0.127205         0.004782\n",
      "3          0.191006        0.011697          0.123595         0.003701\n",
      "4          0.195806        0.010513          0.123193         0.003465\n",
      "5          0.192619        0.013470          0.123191         0.006479\n",
      "6          0.195806        0.016252          0.119981         0.004726\n",
      "7          0.192606        0.018150          0.118377         0.005923\n",
      "8          0.190994        0.012521          0.117173         0.005866\n",
      "9          0.190981        0.013341          0.114365         0.005519\n",
      "10         0.189381        0.022184          0.112358         0.004169\n",
      "11         0.189368        0.021497          0.110351         0.005181\n",
      "12         0.190955        0.024066          0.108744         0.005800\n",
      "13         0.182942        0.023080          0.107941         0.006571\n",
      "14         0.182942        0.021351          0.108744         0.007154\n",
      "15         0.182942        0.020743          0.108744         0.005800\n",
      "16         0.182942        0.020743          0.107540         0.006466\n",
      "17         0.181329        0.022012          0.106337         0.005168\n",
      "18         0.184529        0.022167          0.104731         0.005356\n",
      "19         0.186129        0.022924          0.104731         0.006194\n",
      "20         0.187729        0.022435          0.104731         0.005649\n",
      "21         0.182903        0.026004          0.104330         0.005744\n",
      "22         0.178103        0.020616          0.103928         0.005509\n",
      "The number of boosting rounds is 23 and the minimum error is 0.178103\n",
      "The number of trees picked by CV: 23\n",
      "Accuracy score (test): 0.8283582089552238\n"
     ]
    },
    {
     "data": {
      "image/png": "[encoded data removed]",
      "text/plain": [
       "<matplotlib.figure.Figure at 0x21a8a339b38>"
      ]
     },
     "metadata": {},
     "output_type": "display_data"
    }
   ],
   "source": [
    "#Define a function to create XGBoost models and perform cross-validation\n",
    "predictor = titanic.drop(['PassengerId', 'Survived'], axis = 1).columns.tolist()\n",
    "dataset = titanic[:891].drop('PassengerId', axis=1)\n",
    "outcome = 'Survived'\n",
    "\n",
    "X_train, X_test, y_train, y_test = train_test_split(dataset[predictor], dataset[outcome], \n",
    "                                                    test_size = 0.30, random_state = 0)\n",
    "    \n",
    "def _modelfit(xgb_model, dataset, outcome, **kwargs):  \n",
    "    \n",
    "    #Load data into DMatrix\n",
    "    dtrain = xgb.DMatrix(X_train.values, label=y_train.values)\n",
    "   \n",
    "    #Do corss-validation to tune the number of boosting rounds\n",
    "    cvresult = xgb.cv(xgb_model.get_xgb_params(), dtrain, num_boost_round=xgb_model.get_params()['n_estimators'], \n",
    "                          nfold=5, metrics='error', \n",
    "                          early_stopping_rounds=50, \n",
    "                          seed = 0)  \n",
    "\n",
    "    n_boosting=cvresult.index[cvresult['test-error-mean'] == cvresult['test-error-mean'].min()].tolist()[0]+1\n",
    "    print(cvresult)\n",
    "    print(\"The number of boosting rounds is {0:} and the minimum error is {1:1.6f}\"\n",
    "          .format(n_boosting,cvresult['test-error-mean'].min()))\n",
    "    xgb_model.set_params(n_estimators=n_boosting)\n",
    "    print(\"The number of trees picked by CV: {}\".format(n_boosting))\n",
    "            #cvresult.shape[0])\n",
    "\n",
    "        \n",
    "    #Fit the algorithm on the data:\n",
    "    xgb_model.fit(X_train, y_train, eval_metric='error') #auc\n",
    "        \n",
    "    dtrain_predictions = xgb_model.predict(X_test)\n",
    "    dtrain_predprob = xgb_model.predict_proba(X_test)[:,1]\n",
    "        \n",
    "    print (\"Accuracy score (test): {}\".format(accuracy_score(y_test, dtrain_predictions)))\n",
    "    \n",
    "    #Visualization\n",
    "    plot_importance(xgb_model, color = 'green')\n",
    "    plt.show()\n",
    "    \n",
    "clf = XGBClassifier(max_depth=6, n_estimators=2000, objective='binary:logistic', \n",
    "                     subsample=1.0, colsample_bytree=1.0, random_state = 0)\n",
    "\n",
    "_modelfit(clf, dataset, outcome, predictor = predictor)"
   ]
  },
  {
   "cell_type": "markdown",
   "metadata": {},
   "source": [
    "The accuracy of the best model using the test dataset is 82.83%."
   ]
  },
  {
   "cell_type": "markdown",
   "metadata": {},
   "source": [
    "The next step is to tune the tree-specific parameters as follows."
   ]
  },
  {
   "cell_type": "code",
   "execution_count": 60,
   "metadata": {
    "collapsed": false
   },
   "outputs": [
    {
     "data": {
      "text/plain": [
       "({'max_depth': 6, 'min_child_weight': 5}, 0.8314606741573034)"
      ]
     },
     "execution_count": 60,
     "metadata": {},
     "output_type": "execute_result"
    }
   ],
   "source": [
    "# max_depth and min_child_weight\n",
    "def _grid_depth_weight(dataset, predictor, outcome):\n",
    "       \n",
    "    param_test = {\n",
    "     'max_depth':[i for i in range(3,11,1)],\n",
    "     'min_child_weight':[i for i in range(1,11,1)]    \n",
    "    }\n",
    "    \n",
    "    clf = XGBClassifier(n_estimators = 23, objective='binary:logistic', subsample=1.0, colsample_bytree=1.0, random_state=0)\n",
    "     \n",
    "    _grid = GridSearchCV(clf, param_grid=param_test, scoring='accuracy', \n",
    "                         n_jobs=4, cv=StratifiedKFold(n_splits=5)).fit(X_train,y_train) #roc_auc\n",
    "    \n",
    "    clf=_grid.best_estimator_.fit(X_train,y_train)\n",
    "    \n",
    "    return _grid.best_params_, _grid.best_score_\n",
    "\n",
    "_grid_depth_weight(dataset, predictor, outcome)"
   ]
  },
  {
   "cell_type": "code",
   "execution_count": 61,
   "metadata": {
    "collapsed": false
   },
   "outputs": [
    {
     "data": {
      "text/plain": [
       "({'gamma': 0.0}, 0.8314606741573034)"
      ]
     },
     "execution_count": 61,
     "metadata": {},
     "output_type": "execute_result"
    }
   ],
   "source": [
    "#minimum loss reduction\n",
    "def _grid_gamma(dataset, predictor, outcome):\n",
    "    \n",
    "    param_test = {\n",
    "      'gamma':[i/10.0 for i in range(0,20)]   \n",
    "    }\n",
    "    \n",
    "    clf = XGBClassifier(n_estimators =23, objective='binary:logistic', max_depth=6, min_child_weight=5, \n",
    "                        subsample=1.0, colsample_bytree=1.0, random_state=0)\n",
    "    \n",
    "    _grid = GridSearchCV(clf, param_grid = param_test, scoring='accuracy',n_jobs=4, \n",
    "                         cv=StratifiedKFold(n_splits=5)).fit(X_train,y_train)\n",
    "    \n",
    "    clf=_grid.best_estimator_.fit(X_train, y_train)\n",
    "    \n",
    "    return _grid.best_params_, _grid.best_score_\n",
    "\n",
    "_grid_gamma(dataset, predictor, outcome)"
   ]
  },
  {
   "cell_type": "code",
   "execution_count": 62,
   "metadata": {
    "collapsed": false
   },
   "outputs": [
    {
     "data": {
      "text/plain": [
       "({'colsample_bytree': 0.7, 'subsample': 0.9}, 0.8346709470304976)"
      ]
     },
     "execution_count": 62,
     "metadata": {},
     "output_type": "execute_result"
    }
   ],
   "source": [
    "# subsample and colsample_bytree\n",
    "def _grid_sample(dataset, predictor, outcome):\n",
    "    \n",
    "    param_test = {\n",
    "    'subsample':[i/10.0 for i in range(1,11)],\n",
    "    'colsample_bytree':[i/10.0 for i in range(1,11)]  \n",
    "    }\n",
    "    \n",
    "    clf = XGBClassifier(n_estimators=23, objective='binary:logistic', max_depth=6, min_child_weight=5, \n",
    "                                                     gamma = 0.0, seed =0)\n",
    "    \n",
    "    _grid = GridSearchCV(clf, param_grid = param_test, scoring='accuracy',n_jobs=4, \n",
    "                         cv=StratifiedKFold(n_splits=5)).fit(X_train,y_train)\n",
    "    \n",
    "    clf=_grid.best_estimator_.fit(X_train,y_train)\n",
    "    \n",
    "    return _grid.best_params_, _grid.best_score_\n",
    "\n",
    "_grid_sample(dataset, predictor, outcome) "
   ]
  },
  {
   "cell_type": "markdown",
   "metadata": {},
   "source": [
    "Next, tune the regularization parameter"
   ]
  },
  {
   "cell_type": "code",
   "execution_count": 63,
   "metadata": {
    "collapsed": false
   },
   "outputs": [
    {
     "data": {
      "text/plain": [
       "({'reg_alpha': 0.05}, 0.8362760834670947)"
      ]
     },
     "execution_count": 63,
     "metadata": {},
     "output_type": "execute_result"
    }
   ],
   "source": [
    "# tuning alpha\n",
    "def _grid_reg(dataset, predictor, outcome):\n",
    "    \n",
    "    param_test = {\n",
    "    'reg_alpha':[0, 0.001, 0.005, 0.01, 0.05, 1, 100]  \n",
    "    }\n",
    "    \n",
    "    clf = XGBClassifier(n_estimators=23, objective='binary:logistic', max_depth=6, min_child_weight=5, \n",
    "                                                     gamma = 0.0, subsample = 0.9, colsample_bytree = 0.7, seed = 0)   \n",
    "                         \n",
    "    _grid = GridSearchCV(clf, param_grid = param_test, scoring='accuracy',n_jobs=4, \n",
    "                         cv=StratifiedKFold(n_splits=5)).fit(X_train,y_train)\n",
    "    \n",
    "    clf=_grid.best_estimator_.fit(X_train,y_train)\n",
    "    \n",
    "    return _grid.best_params_, _grid.best_score_\n",
    "\n",
    "_grid_reg(dataset, predictor, outcome)  "
   ]
  },
  {
   "cell_type": "markdown",
   "metadata": {},
   "source": [
    "Finally, build the predictive model with the determined parameters."
   ]
  },
  {
   "cell_type": "code",
   "execution_count": 75,
   "metadata": {
    "collapsed": false
   },
   "outputs": [
    {
     "name": "stdout",
     "output_type": "stream",
     "text": [
      "    test-error-mean  test-error-std  train-error-mean  train-error-std\n",
      "0          0.198955        0.024980          0.184586         0.007915\n",
      "1          0.194181        0.020803          0.178565         0.011390\n",
      "2          0.192503        0.042359          0.171749         0.005457\n",
      "3          0.200542        0.033104          0.165725         0.008371\n",
      "4          0.192529        0.038262          0.164125         0.013152\n",
      "5          0.182877        0.042771          0.163723         0.013343\n",
      "6          0.192568        0.035015          0.160507         0.010133\n",
      "7          0.181316        0.023690          0.157704         0.007878\n",
      "8          0.189316        0.033452          0.158910         0.010521\n",
      "9          0.186129        0.030661          0.155699         0.005182\n",
      "10         0.186129        0.021202          0.154092         0.005418\n",
      "11         0.186129        0.026076          0.155697         0.002933\n",
      "12         0.184529        0.020381          0.155295         0.004037\n",
      "13         0.187768        0.024465          0.154889         0.008610\n",
      "14         0.190993        0.027025          0.153684         0.008889\n",
      "15         0.194193        0.032152          0.154086         0.007624\n",
      "16         0.192568        0.036797          0.154086         0.007518\n",
      "17         0.190942        0.034269          0.152479         0.010094\n",
      "18         0.192568        0.036797          0.152480         0.008833\n",
      "19         0.187742        0.040979          0.152079         0.008412\n",
      "20         0.174877        0.035388          0.147668         0.006440\n",
      "21         0.181303        0.030344          0.145662         0.006056\n",
      "22         0.174890        0.031582          0.146866         0.007374\n",
      "23         0.178090        0.032727          0.146867         0.006205\n",
      "24         0.181316        0.026308          0.146064         0.005198\n",
      "25         0.179703        0.029516          0.147269         0.005698\n",
      "26         0.182929        0.023105          0.145260         0.005775\n",
      "27         0.181303        0.030344          0.146064         0.005644\n",
      "28         0.182916        0.023547          0.146866         0.005781\n",
      "29         0.186142        0.020749          0.146464         0.006732\n",
      "..              ...             ...               ...              ...\n",
      "53         0.171677        0.022542          0.138438         0.006110\n",
      "54         0.173277        0.023618          0.138840         0.006910\n",
      "55         0.173277        0.023618          0.138038         0.006322\n",
      "56         0.174877        0.024543          0.137234         0.007265\n",
      "57         0.176477        0.025834          0.137636         0.005927\n",
      "58         0.176477        0.025834          0.136833         0.007010\n",
      "59         0.174877        0.025059          0.136430         0.007055\n",
      "60         0.173277        0.024154          0.134826         0.007862\n",
      "61         0.171665        0.027139          0.135630         0.008109\n",
      "62         0.173277        0.023618          0.136433         0.005430\n",
      "63         0.174877        0.024543          0.136033         0.004905\n",
      "64         0.171677        0.022542          0.135230         0.005680\n",
      "65         0.173277        0.023618          0.134827         0.006551\n",
      "66         0.174877        0.024543          0.133222         0.006203\n",
      "67         0.174877        0.024543          0.133624         0.005808\n",
      "68         0.174877        0.024543          0.133624         0.005808\n",
      "69         0.173277        0.023618          0.132822         0.006810\n",
      "70         0.173277        0.023618          0.134026         0.006340\n",
      "71         0.171677        0.022542          0.133624         0.008605\n",
      "72         0.171677        0.022542          0.134828         0.007699\n",
      "73         0.170077        0.021292          0.135630         0.007397\n",
      "74         0.170077        0.021292          0.135228         0.008398\n",
      "75         0.173277        0.023618          0.135229         0.008019\n",
      "76         0.173277        0.023618          0.135229         0.007711\n",
      "77         0.173277        0.023618          0.133622         0.008857\n",
      "78         0.173277        0.023618          0.135229         0.006823\n",
      "79         0.171664        0.024101          0.133622         0.008857\n",
      "80         0.170064        0.022936          0.133623         0.007704\n",
      "81         0.171677        0.020102          0.133624         0.008025\n",
      "82         0.168464        0.022174          0.133624         0.007719\n",
      "\n",
      "[83 rows x 4 columns]\n",
      "The number of boosting rounds is 83 and the minimum error is 0.168464\n",
      "The number of trees picked by CV: 83\n",
      "Accuracy score (test): 0.8432835820895522\n"
     ]
    },
    {
     "data": {
      "image/png": "[encoded data removed]",
      "text/plain": [
       "<matplotlib.figure.Figure at 0x1e0a38f9208>"
      ]
     },
     "metadata": {},
     "output_type": "display_data"
    }
   ],
   "source": [
    "clf = XGBClassifier(\n",
    " learning_rate =0.05,\n",
    " n_estimators=2000,\n",
    " max_depth=6,\n",
    " min_child_weight=5,\n",
    " gamma=0.0,\n",
    " subsample=0.9,\n",
    " colsample_bytree=0.7,\n",
    " reg_alpha = 0.05,\n",
    " objective='binary:logistic',\n",
    " random_state=0)\n",
    "\n",
    "_modelfit(clf, dataset, outcome)"
   ]
  },
  {
   "cell_type": "markdown",
   "metadata": {},
   "source": [
    "The accuracy of the best model using the test dataset is 84.33%."
   ]
  },
  {
   "cell_type": "code",
   "execution_count": 76,
   "metadata": {
    "collapsed": false
   },
   "outputs": [
    {
     "name": "stdout",
     "output_type": "stream",
     "text": [
      "Dimension of final set: (418, 2)\n",
      "\n",
      "     PassengerId  Survived\n",
      "891          892         0\n",
      "892          893         0\n",
      "893          894         0\n",
      "894          895         0\n",
      "895          896         1\n"
     ]
    }
   ],
   "source": [
    "# Predict actual data set\n",
    "_Survived = clf.predict(titanic[891:].drop(['Survived', 'PassengerId'], axis=1)).astype(int)\n",
    "_PassengerId = titanic[891:].PassengerId\n",
    "_xgb = pd.DataFrame({'PassengerId': _PassengerId ,'Survived': _Survived})\n",
    "print(\"Dimension of final set: {}\".format(_xgb.shape)+\"\\n\")\n",
    "print(_xgb.head())\n",
    "_xgb.to_csv('_xgb.csv', index = False)"
   ]
  },
  {
   "cell_type": "markdown",
   "metadata": {
    "collapsed": true
   },
   "source": [
    "For the pedagogical purpose, in what follows, a predictive model using XGBoost native API is also implemented. Of course, its performance can be further improved to build a more accurate model.  "
   ]
  },
  {
   "cell_type": "code",
   "execution_count": 34,
   "metadata": {
    "collapsed": false
   },
   "outputs": [
    {
     "name": "stdout",
     "output_type": "stream",
     "text": [
      "[0]\teval-error:0.186567\n",
      "Will train until eval-error hasn't improved in 50 rounds.\n",
      "[1]\teval-error:0.190299\n",
      "[2]\teval-error:0.186567\n",
      "[3]\teval-error:0.182836\n",
      "[4]\teval-error:0.175373\n",
      "[5]\teval-error:0.175373\n",
      "[6]\teval-error:0.16791\n",
      "[7]\teval-error:0.16791\n",
      "[8]\teval-error:0.164179\n",
      "[9]\teval-error:0.156716\n",
      "[10]\teval-error:0.164179\n",
      "[11]\teval-error:0.160448\n",
      "[12]\teval-error:0.16791\n",
      "[13]\teval-error:0.171642\n",
      "[14]\teval-error:0.171642\n",
      "[15]\teval-error:0.171642\n",
      "[16]\teval-error:0.175373\n",
      "[17]\teval-error:0.175373\n",
      "[18]\teval-error:0.179104\n",
      "[19]\teval-error:0.175373\n",
      "[20]\teval-error:0.179104\n",
      "[21]\teval-error:0.179104\n",
      "[22]\teval-error:0.179104\n",
      "[23]\teval-error:0.175373\n",
      "[24]\teval-error:0.171642\n",
      "[25]\teval-error:0.171642\n",
      "[26]\teval-error:0.179104\n",
      "[27]\teval-error:0.179104\n",
      "[28]\teval-error:0.179104\n",
      "[29]\teval-error:0.171642\n",
      "[30]\teval-error:0.171642\n",
      "[31]\teval-error:0.171642\n",
      "[32]\teval-error:0.171642\n",
      "[33]\teval-error:0.171642\n",
      "[34]\teval-error:0.171642\n",
      "[35]\teval-error:0.175373\n",
      "[36]\teval-error:0.171642\n",
      "[37]\teval-error:0.16791\n",
      "[38]\teval-error:0.171642\n",
      "[39]\teval-error:0.16791\n",
      "[40]\teval-error:0.175373\n",
      "[41]\teval-error:0.171642\n",
      "[42]\teval-error:0.175373\n",
      "[43]\teval-error:0.179104\n",
      "[44]\teval-error:0.179104\n",
      "[45]\teval-error:0.175373\n",
      "[46]\teval-error:0.175373\n",
      "[47]\teval-error:0.175373\n",
      "[48]\teval-error:0.175373\n",
      "[49]\teval-error:0.171642\n",
      "[50]\teval-error:0.175373\n",
      "[51]\teval-error:0.175373\n",
      "[52]\teval-error:0.179104\n",
      "[53]\teval-error:0.175373\n",
      "[54]\teval-error:0.175373\n",
      "[55]\teval-error:0.171642\n",
      "[56]\teval-error:0.171642\n",
      "[57]\teval-error:0.171642\n",
      "[58]\teval-error:0.175373\n",
      "[59]\teval-error:0.179104\n",
      "Stopping. Best iteration:\n",
      "[9]\teval-error:0.156716\n",
      "\n",
      "Best error rate: 0.156716 with 10 rounds\n"
     ]
    }
   ],
   "source": [
    "# XGBoost native API \n",
    "predictor = titanic[:891].drop(['PassengerId', 'Survived'], axis = 1)\n",
    "outcome = titanic.loc[:890, 'Survived']\n",
    "\n",
    "X_train, X_test, y_train, y_test = train_test_split(predictor, outcome, test_size = 0.30, random_state = 0)\n",
    "\n",
    "def _xgb_model():\n",
    "      \n",
    "    #Load data into DMatrix\n",
    "    dtrain = xgb.DMatrix(X_train.values, label=y_train.values)\n",
    "    dtest = xgb.DMatrix(X_test.values, label=y_test.values)\n",
    "\n",
    "    params = {\n",
    "    'max_depth': 6,\n",
    "    'min_child_weight': 1,\n",
    "    'eta':0.3,\n",
    "    'subsample': 1,\n",
    "    'colsample_bytree': 1,\n",
    "    'objective':'binary:logistic',\n",
    "    'eval_metric': 'error',\n",
    "    'random_state': 0\n",
    "    }\n",
    "    \n",
    "    num_boost_round = 2000 \n",
    "    \n",
    "    _xgb = xgb.train(\n",
    "        params,\n",
    "        dtrain,\n",
    "        num_boost_round=num_boost_round,\n",
    "        evals=[(dtest, \"eval\")], #, (dtrain,'train')\n",
    "        early_stopping_rounds=50\n",
    "    )\n",
    "    \n",
    "    print(\"Best error rate: {:1.6f} with {} rounds\".format(_xgb.best_score, _xgb.best_iteration+1))\n",
    "    \n",
    "    _xgb.dump_model('dump.raw.txt')\n",
    "\n",
    "_xgb_model() "
   ]
  },
  {
   "cell_type": "code",
   "execution_count": 35,
   "metadata": {
    "collapsed": false
   },
   "outputs": [
    {
     "name": "stdout",
     "output_type": "stream",
     "text": [
      "max_depth: 4, min_child_weight: 1, Error: 0.1588128\n"
     ]
    }
   ],
   "source": [
    "#Define a function to  perform cross-validation    \n",
    "def _cv_depth_child():  \n",
    "    \n",
    "    #Load data into DMatrix\n",
    "    dtrain = xgb.DMatrix(X_train.values, label=y_train.values)\n",
    "    \n",
    "    params = {\n",
    "    'eta':0.3,\n",
    "    'subsample': 1,\n",
    "    'colsample_bytree': 1,\n",
    "    'objective':'binary:logistic',\n",
    "    'random_state': 0\n",
    "    }\n",
    "    \n",
    "    gridsearch_params = [\n",
    "    (max_depth, min_child_weight)\n",
    "    for max_depth in range(1,12)\n",
    "    for min_child_weight in range(1,12)\n",
    "    ]\n",
    "    \n",
    "    min_error = float(\"Inf\")\n",
    "    best_params = None\n",
    "    for max_depth, min_child_weight in gridsearch_params:\n",
    "        \n",
    "        # Updating the parameters\n",
    "        params['max_depth'] = max_depth\n",
    "        params['min_child_weight'] = min_child_weight\n",
    "   \n",
    "        #Corss-validation to tune the number of boosting rounds\n",
    "        cv_result = xgb.cv(params, dtrain, num_boost_round=2000, nfold=5, metrics={'error'}, early_stopping_rounds=50, seed = 0)  \n",
    "    \n",
    "        # Updating error                                                                            \n",
    "        mean_error = cv_result['test-error-mean'].min()\n",
    "        boost_rounds = cv_result['test-error-mean'].argmin()\n",
    "        if mean_error < min_error:\n",
    "            min_error = mean_error\n",
    "            best_params = (max_depth, min_child_weight)\n",
    "        \n",
    "    print(\"max_depth: {}, min_child_weight: {}, Error: {:1.7f}\".format(best_params[0], best_params[1], min_error))\n",
    "\n",
    "_cv_depth_child()"
   ]
  },
  {
   "cell_type": "code",
   "execution_count": 36,
   "metadata": {
    "collapsed": false
   },
   "outputs": [
    {
     "name": "stdout",
     "output_type": "stream",
     "text": [
      "gamma: 0.0, Error: 0.1588128\n"
     ]
    }
   ],
   "source": [
    "#Define a function to perform cross-validation    \n",
    "def _cv_gamma():  \n",
    "    \n",
    "    #Load data into DMatrix\n",
    "    dtrain = xgb.DMatrix(X_train.values, label=y_train.values)\n",
    "    \n",
    "    params = {\n",
    "    'eta':0.3,\n",
    "    'max_depth': 4,\n",
    "    'min_child_weight': 1,\n",
    "    'subsample': 1,\n",
    "    'colsample_bytree': 1,\n",
    "    'objective':'reg:logistic',\n",
    "    'random_state': 0\n",
    "    }\n",
    "    \n",
    "    gridsearch_params = [gamma/10.0 for gamma in range(0,20)]\n",
    "    \n",
    "    min_error = float(\"Inf\")\n",
    "    best_params = None\n",
    "    for gamma in gridsearch_params:\n",
    "        \n",
    "        # Updating the parameter\n",
    "        params['gamma'] = gamma\n",
    "   \n",
    "        #Corss-validation to tune the number of boosting rounds\n",
    "        cv_result = xgb.cv(params, dtrain, num_boost_round=2000, nfold=5, metrics={'error'}, early_stopping_rounds=50, seed = 0)  \n",
    "    \n",
    "        # Updating error                                                                            \n",
    "        mean_error = cv_result['test-error-mean'].min()\n",
    "        boost_rounds = cv_result['test-error-mean'].argmin()\n",
    "        if mean_error < min_error:\n",
    "            min_error = mean_error\n",
    "            best_params = gamma\n",
    "        \n",
    "    print(\"gamma: {}, Error: {:1.7f}\".format(best_params, min_error))\n",
    "\n",
    "_cv_gamma()"
   ]
  },
  {
   "cell_type": "code",
   "execution_count": 37,
   "metadata": {
    "collapsed": false
   },
   "outputs": [
    {
     "name": "stdout",
     "output_type": "stream",
     "text": [
      "subsample: 1.0, colsample_bytree: 1.0, Error: 0.1588128\n"
     ]
    }
   ],
   "source": [
    "#Define a function to perform cross-validation    \n",
    "def _cv_colsample_subsample():  \n",
    "    \n",
    "    #Load data into DMatrix\n",
    "    dtrain = xgb.DMatrix(X_train.values, label=y_train.values)\n",
    "    \n",
    "    params = {\n",
    "    'eta':0.3,\n",
    "    'max_depth': 4,\n",
    "    'min_child_weight': 1,\n",
    "    'gamma': 0,    \n",
    "    'objective':'reg:logistic',\n",
    "    'random_state': 0\n",
    "    }\n",
    "    \n",
    "    gridsearch_params = [\n",
    "        (subsample, colsample_bytree)\n",
    "        for subsample in [i/10. for i in range(1,11)]\n",
    "        for colsample_bytree in [i/10. for i in range(1,11)]\n",
    "    ]\n",
    "    \n",
    "    min_error = float(\"Inf\")\n",
    "    best_params = None\n",
    "    for subsample, colsample_bytree in gridsearch_params:\n",
    "        \n",
    "        # Updating the parameters\n",
    "        params['subsample'] = subsample\n",
    "        params['colsample_bytree'] = colsample_bytree\n",
    "   \n",
    "        #Corss-validation to tune the number of boosting rounds\n",
    "        cv_result = xgb.cv(params, dtrain, num_boost_round=2000, nfold=5, metrics={'error'}, early_stopping_rounds=50, seed = 0)  \n",
    "    \n",
    "        # Updating error                                                                            \n",
    "        mean_error = cv_result['test-error-mean'].min()\n",
    "        boost_rounds = cv_result['test-error-mean'].argmin()\n",
    "        if mean_error < min_error:\n",
    "            min_error = mean_error\n",
    "            best_params = (subsample, colsample_bytree)\n",
    "        \n",
    "    print(\"subsample: {}, colsample_bytree: {}, Error: {:1.7f}\".format(best_params[0], best_params[1], min_error))\n",
    "\n",
    "_cv_colsample_subsample()"
   ]
  },
  {
   "cell_type": "code",
   "execution_count": 38,
   "metadata": {
    "collapsed": false
   },
   "outputs": [
    {
     "name": "stdout",
     "output_type": "stream",
     "text": [
      "alpha: 0, Error: 0.1588128\n"
     ]
    }
   ],
   "source": [
    "#Define a function to perform cross-validation    \n",
    "def _cv_alpha():  \n",
    "    \n",
    "    #Load data into DMatrix\n",
    "    dtrain = xgb.DMatrix(X_train.values, label=y_train.values)\n",
    "    \n",
    "    params = {\n",
    "    'eta':0.3,\n",
    "    'max_depth': 4,\n",
    "    'min_child_weight': 1,\n",
    "    'gamma': 0,\n",
    "    'subsample': 1,\n",
    "    'colsample_bytree': 1,\n",
    "    'objective':'reg:logistic',\n",
    "    'random_state': 0\n",
    "    }\n",
    "    \n",
    "    gridsearch_params = [0, 0.001, 0.005, 0.01, 0.05, 1, 100]\n",
    "    \n",
    "    min_error = float(\"Inf\")\n",
    "    best_params = None\n",
    "    for alpha in gridsearch_params:\n",
    "        \n",
    "        # Updating the parameter\n",
    "        params['alpha'] = alpha\n",
    "   \n",
    "        #Corss-validation to tune the number of boosting rounds\n",
    "        cv_result = xgb.cv(params, dtrain, num_boost_round=2000, nfold=5, metrics={'error'}, early_stopping_rounds=50, seed = 0)  \n",
    "    \n",
    "        # Updating error                                                                            \n",
    "        mean_error = cv_result['test-error-mean'].min()\n",
    "        boost_rounds = cv_result['test-error-mean'].argmin()\n",
    "        if mean_error < min_error:\n",
    "            min_error = mean_error\n",
    "            best_params = alpha\n",
    "        \n",
    "    print(\"alpha: {}, Error: {:1.7f}\".format(best_params, min_error))\n",
    "\n",
    "_cv_alpha()"
   ]
  },
  {
   "cell_type": "code",
   "execution_count": 39,
   "metadata": {
    "collapsed": false
   },
   "outputs": [
    {
     "name": "stdout",
     "output_type": "stream",
     "text": [
      "eta: 0.3, Error: 0.1588128\n"
     ]
    }
   ],
   "source": [
    "#Define a function to perform cross-validation    \n",
    "def _cv_eta():  \n",
    "    \n",
    "    #Load data into DMatrix\n",
    "    dtrain = xgb.DMatrix(X_train.values, label=y_train.values)\n",
    "    \n",
    "    params = {\n",
    "    'max_depth': 4,\n",
    "    'min_child_weight': 1,\n",
    "     'gamma': 0,\n",
    "    'subsample': 1,\n",
    "    'colsample_bytree': 1,\n",
    "    'alpha': 0,    \n",
    "    'objective':'reg:logistic',\n",
    "    'random_state': 0\n",
    "    }\n",
    "    \n",
    "    gridsearch_params = [0, 0.001, 0.005, 0.01, 0.05, 0.1, 0.3, 0.5, 0.7, 0.9, 1]  \n",
    "    \n",
    "    min_error = float(\"Inf\")\n",
    "    best_params = None\n",
    "    for eta in gridsearch_params:\n",
    "        \n",
    "        # Updating the parameter\n",
    "        params['eta'] = eta\n",
    "   \n",
    "        #Corss-validation to tune the number of boosting rounds\n",
    "        cv_result = xgb.cv(params, dtrain, num_boost_round=2000, nfold=5, metrics={'error'}, early_stopping_rounds=50, seed = 0)  \n",
    "    \n",
    "        # Updating error                                                                            \n",
    "        mean_error = cv_result['test-error-mean'].min()\n",
    "        boost_rounds = cv_result['test-error-mean'].argmin()\n",
    "        if mean_error < min_error:\n",
    "            min_error = mean_error\n",
    "            best_params = eta\n",
    "        \n",
    "    print(\"eta: {}, Error: {:1.7f}\".format(best_params, min_error))\n",
    "\n",
    "_cv_eta()"
   ]
  },
  {
   "cell_type": "code",
   "execution_count": 57,
   "metadata": {
    "collapsed": false
   },
   "outputs": [
    {
     "name": "stdout",
     "output_type": "stream",
     "text": [
      "[0]\teval-error:0.182836\n",
      "Will train until eval-error hasn't improved in 50 rounds.\n",
      "[1]\teval-error:0.186567\n",
      "[2]\teval-error:0.182836\n",
      "[3]\teval-error:0.179104\n",
      "[4]\teval-error:0.182836\n",
      "[5]\teval-error:0.179104\n",
      "[6]\teval-error:0.179104\n",
      "[7]\teval-error:0.179104\n",
      "[8]\teval-error:0.179104\n",
      "[9]\teval-error:0.179104\n",
      "[10]\teval-error:0.186567\n",
      "[11]\teval-error:0.186567\n",
      "[12]\teval-error:0.182836\n",
      "[13]\teval-error:0.186567\n",
      "[14]\teval-error:0.182836\n",
      "[15]\teval-error:0.182836\n",
      "[16]\teval-error:0.182836\n",
      "[17]\teval-error:0.186567\n",
      "[18]\teval-error:0.186567\n",
      "[19]\teval-error:0.190299\n",
      "[20]\teval-error:0.182836\n",
      "[21]\teval-error:0.175373\n",
      "[22]\teval-error:0.179104\n",
      "[23]\teval-error:0.179104\n",
      "[24]\teval-error:0.182836\n",
      "[25]\teval-error:0.179104\n",
      "[26]\teval-error:0.179104\n",
      "[27]\teval-error:0.179104\n",
      "[28]\teval-error:0.179104\n",
      "[29]\teval-error:0.179104\n",
      "[30]\teval-error:0.175373\n",
      "[31]\teval-error:0.171642\n",
      "[32]\teval-error:0.171642\n",
      "[33]\teval-error:0.16791\n",
      "[34]\teval-error:0.164179\n",
      "[35]\teval-error:0.164179\n",
      "[36]\teval-error:0.164179\n",
      "[37]\teval-error:0.164179\n",
      "[38]\teval-error:0.160448\n",
      "[39]\teval-error:0.152985\n",
      "[40]\teval-error:0.152985\n",
      "[41]\teval-error:0.160448\n",
      "[42]\teval-error:0.160448\n",
      "[43]\teval-error:0.156716\n",
      "[44]\teval-error:0.156716\n",
      "[45]\teval-error:0.156716\n",
      "[46]\teval-error:0.164179\n",
      "[47]\teval-error:0.164179\n",
      "[48]\teval-error:0.156716\n",
      "[49]\teval-error:0.160448\n",
      "[50]\teval-error:0.16791\n",
      "[51]\teval-error:0.16791\n",
      "[52]\teval-error:0.16791\n",
      "[53]\teval-error:0.16791\n",
      "[54]\teval-error:0.16791\n",
      "[55]\teval-error:0.16791\n",
      "[56]\teval-error:0.16791\n",
      "[57]\teval-error:0.16791\n",
      "[58]\teval-error:0.16791\n",
      "[59]\teval-error:0.16791\n",
      "[60]\teval-error:0.16791\n",
      "[61]\teval-error:0.16791\n",
      "[62]\teval-error:0.171642\n",
      "[63]\teval-error:0.171642\n",
      "[64]\teval-error:0.171642\n",
      "[65]\teval-error:0.171642\n",
      "[66]\teval-error:0.171642\n",
      "[67]\teval-error:0.16791\n",
      "[68]\teval-error:0.16791\n",
      "[69]\teval-error:0.16791\n",
      "[70]\teval-error:0.16791\n",
      "[71]\teval-error:0.16791\n",
      "[72]\teval-error:0.16791\n",
      "[73]\teval-error:0.16791\n",
      "[74]\teval-error:0.16791\n",
      "[75]\teval-error:0.171642\n",
      "[76]\teval-error:0.171642\n",
      "[77]\teval-error:0.16791\n",
      "[78]\teval-error:0.16791\n",
      "[79]\teval-error:0.171642\n",
      "[80]\teval-error:0.171642\n",
      "[81]\teval-error:0.171642\n",
      "[82]\teval-error:0.175373\n",
      "[83]\teval-error:0.175373\n",
      "[84]\teval-error:0.171642\n",
      "[85]\teval-error:0.16791\n",
      "[86]\teval-error:0.16791\n",
      "[87]\teval-error:0.16791\n",
      "[88]\teval-error:0.171642\n",
      "[89]\teval-error:0.171642\n",
      "Stopping. Best iteration:\n",
      "[39]\teval-error:0.152985\n",
      "\n",
      "Best error rate: 0.152985 with 40 rounds\n",
      "------------------Save the best model------------------\n",
      "[0]\tTest-error:0.182836\n",
      "[1]\tTest-error:0.186567\n",
      "[2]\tTest-error:0.182836\n",
      "[3]\tTest-error:0.179104\n",
      "[4]\tTest-error:0.182836\n",
      "[5]\tTest-error:0.179104\n",
      "[6]\tTest-error:0.179104\n",
      "[7]\tTest-error:0.179104\n",
      "[8]\tTest-error:0.179104\n",
      "[9]\tTest-error:0.179104\n",
      "[10]\tTest-error:0.186567\n",
      "[11]\tTest-error:0.186567\n",
      "[12]\tTest-error:0.182836\n",
      "[13]\tTest-error:0.186567\n",
      "[14]\tTest-error:0.182836\n",
      "[15]\tTest-error:0.182836\n",
      "[16]\tTest-error:0.182836\n",
      "[17]\tTest-error:0.186567\n",
      "[18]\tTest-error:0.186567\n",
      "[19]\tTest-error:0.190299\n",
      "[20]\tTest-error:0.182836\n",
      "[21]\tTest-error:0.175373\n",
      "[22]\tTest-error:0.179104\n",
      "[23]\tTest-error:0.179104\n",
      "[24]\tTest-error:0.182836\n",
      "[25]\tTest-error:0.179104\n",
      "[26]\tTest-error:0.179104\n",
      "[27]\tTest-error:0.179104\n",
      "[28]\tTest-error:0.179104\n",
      "[29]\tTest-error:0.179104\n",
      "[30]\tTest-error:0.175373\n",
      "[31]\tTest-error:0.171642\n",
      "[32]\tTest-error:0.171642\n",
      "[33]\tTest-error:0.16791\n",
      "[34]\tTest-error:0.164179\n",
      "[35]\tTest-error:0.164179\n",
      "[36]\tTest-error:0.164179\n",
      "[37]\tTest-error:0.164179\n",
      "[38]\tTest-error:0.160448\n",
      "[39]\tTest-error:0.152985\n",
      "Accuracy score 0.8470149253731343\n",
      "Dimension of final set: (418, 2)\n",
      "\n",
      "     PassengerId  Survived\n",
      "891          892         0\n",
      "892          893         0\n",
      "893          894         0\n",
      "894          895         0\n",
      "895          896         0\n"
     ]
    }
   ],
   "source": [
    "# re-tarin the model using the tuned parameters\n",
    "def _xgb_tuned():\n",
    "      \n",
    "    #Load data into DMatrix\n",
    "    dtrain = xgb.DMatrix(X_train.values, label=y_train.values)\n",
    "    dtest = xgb.DMatrix(X_test.values, label=y_test.values)\n",
    "\n",
    "    params = {\n",
    "    'eta': 0.3,   \n",
    "    'max_depth': 4,\n",
    "    'min_child_weight': 1,\n",
    "    'gamma': 0,\n",
    "    'subsample': 1,\n",
    "    'colsample_bytree': 1,\n",
    "    'alpha': 0,    \n",
    "    'objective':'binary:logistic',\n",
    "    'eval_metric':'error',    \n",
    "    'random_state': 0\n",
    "    }\n",
    "    \n",
    "    num_boost_round = 2000 \n",
    "    \n",
    "    _xgb = xgb.train(\n",
    "        params,\n",
    "        dtrain,\n",
    "        num_boost_round=num_boost_round,\n",
    "        evals=[(dtest, \"eval\")],\n",
    "        early_stopping_rounds=50\n",
    "    )\n",
    "    \n",
    "    print(\"Best error rate: {:1.6f} with {} rounds\".format(\n",
    "                 _xgb.best_score,\n",
    "                 _xgb.best_iteration+1))\n",
    "    \n",
    "    print(\"------------------Save the best model------------------\")\n",
    "    \n",
    "    num_boost_round = _xgb.best_iteration + 1\n",
    "\n",
    "    best_xgb = xgb.train(\n",
    "        params,\n",
    "        dtrain,\n",
    "        num_boost_round=num_boost_round,\n",
    "        evals=[(dtest, \"Test\")]\n",
    "    )\n",
    "    \n",
    "    pred = best_xgb.predict(dtest)\n",
    "    \n",
    "    for i in range(len(pred)):\n",
    "        if pred[i] >= 0.5:\n",
    "            pred[i] = 1\n",
    "        else:\n",
    "            pred[i] = 0\n",
    "            \n",
    "    print(\"Accuracy score {}\".format(accuracy_score(pred, y_test)))\n",
    "    \n",
    "    _final_pred(best_xgb, params, num_boost_round)\n",
    "    \n",
    "\n",
    "# Predict actual test data\n",
    "def _final_pred(model, parameters, boost_round):\n",
    "    \n",
    "    dactual = xgb.DMatrix(titanic[891:].drop(['Survived', 'PassengerId'], axis=1).values)\n",
    "    \n",
    "    _Survived =  model.predict(dactual)\n",
    "    for i in range(len(_Survived)):\n",
    "        if _Survived[i] >= 0.5:\n",
    "            _Survived[i] = 1\n",
    "        else:\n",
    "            _Survived[i] = 0\n",
    "    _Survived=_Survived.astype(int)\n",
    "    _PassengerId = titanic[891:].PassengerId\n",
    "    _pred = pd.DataFrame({'PassengerId': _PassengerId ,'Survived': _Survived})\n",
    "    print(\"Dimension of final set: {}\".format(_pred.shape)+\"\\n\")\n",
    "    print(_pred.head())\n",
    "    _pred.to_csv('_pred.csv', index = False)\n",
    "\n",
    "_xgb_tuned() "
   ]
  },
  {
   "cell_type": "markdown",
   "metadata": {
    "collapsed": true
   },
   "source": [
    "The accuracy of the best model using the test dataset is 84.70%. "
   ]
  },
  {
   "cell_type": "markdown",
   "metadata": {},
   "source": [
    "## 5. Conclusion"
   ]
  },
  {
   "cell_type": "markdown",
   "metadata": {
    "collapsed": true
   },
   "source": [
    "This study presents two different ensemble machine learning models to address Titanic passengers survival rate. The xgboost model scored 0.79904 ranking among top 15%. The total number of people taking part in the competition is 10163 as of today. This study can be further extended using a more exhaustive parameter tuning approach or combining xgboost with other methods which is referred to as stacking.        "
   ]
  }
 ],
 "metadata": {
  "anaconda-cloud": {},
  "kernelspec": {
   "display_name": "Python [default]",
   "language": "python",
   "name": "python3"
  },
  "language_info": {
   "codemirror_mode": {
    "name": "ipython",
    "version": 3
   },
   "file_extension": ".py",
   "mimetype": "text/x-python",
   "name": "python",
   "nbconvert_exporter": "python",
   "pygments_lexer": "ipython3",
   "version": "3.5.2"
  }
 },
 "nbformat": 4,
 "nbformat_minor": 2
}
